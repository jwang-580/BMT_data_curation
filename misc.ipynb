{
 "cells": [
  {
   "cell_type": "code",
   "execution_count": 6,
   "id": "f0091842",
   "metadata": {},
   "outputs": [
    {
     "name": "stdout",
     "output_type": "stream",
     "text": [
      "['NHL-myc fung' 'AML-mutated NPM1' 'AML-NPM1 mut' 'ALL-B cell, BCR-ABL1'\n",
      " 'AML-t(9;11)' 'AML-mutated RUNX1' 'MDS-RAEB-1' 'HOD-NS' 'AML-MLL abn'\n",
      " 'NHL-DLBCL, activated' 'AML-MRC' 'AML-inv(16)' 'MDS-CMML' 'AML'\n",
      " 'NHL-prim cut T-cell' 'MDS-MPN-RS-T' 'AML-myeloid sarcoma'\n",
      " 'CLL-B cell/SLL' 'NHL-DLBCL' 'AcL-undiff' 'MDS-myelofibrosis'\n",
      " 'ALL-B cell, hypodiploidy' 'MDS' 'ALL-T cell precursor' 'ALL-B cell'\n",
      " 'HOD' 'AML-therapy related' 'NHL-MC' 'MDS-RAEB-2' 'NHL-AITL' 'AML-t(6;9)'\n",
      " 'MPN-MF' 'AML-M2' 'AML-M1' 'NHL-DLBCL-CNS' 'MDS-EB-1' 'MM-IgG Kappa'\n",
      " 'AML-M0' 'MDS-EB-2' 'HOD-mixed cell' 'CML-Ph+;BCR/ABL+'\n",
      " 'ALL-early T cell precursor' 'MPN' 'AcL-BPDCN' 'AML-t(8;21)' 'SCD'\n",
      " 'MDS-RS-MLD' 'NHL-DLBCL, germ center' 'Toler induc-sol org txplt'\n",
      " 'MDS-MLD' 'MDS-RCMD' 'PLL-T cell' 'NHL-MS large B-cell'\n",
      " 'ALL-B cell, hyperdiploidy' 'AML-BCR-ABL1' 'AML-biall mut CEBPA'\n",
      " 'MPN-post PCV MF' 'MDS-SLD' 'AML-other genetic alter' 'MDS-IB-1'\n",
      " 'MDS-IB-2' 'NHL-PTCL' 'MDS-LB' 'ALL-B cell, BCR::ABL1 fus' 'MDS-MPN'\n",
      " 'MPN-post ET MF' 'NHL-DLBCL, EBV+' 'AML-other KMT2A rearr' 'NHL-F1'\n",
      " 'MDS-CMML-MP' 'HOD-lymph rich']\n"
     ]
    }
   ],
   "source": [
    "import pandas as pd\n",
    "\n",
    "df = pd.read_csv('data/target_filtered.csv')\n",
    "\n",
    "print(df['Disease_x'].unique())"
   ]
  },
  {
   "cell_type": "code",
   "execution_count": null,
   "id": "692fd989",
   "metadata": {},
   "outputs": [],
   "source": [
    "# ollama is in the docker container\n",
    "# need to restart the docker in order to use gpu\n",
    "\n",
    "! docker restart ollama"
   ]
  },
  {
   "cell_type": "code",
   "execution_count": 9,
   "id": "7e93bf59",
   "metadata": {},
   "outputs": [
    {
     "name": "stdout",
     "output_type": "stream",
     "text": [
      "131\n"
     ]
    }
   ],
   "source": [
    "import pandas as pd\n",
    "\n",
    "df = pd.read_csv('results/extracted_results/baseline_extraction_gemma3_27b-it-q8_0.csv')\n",
    "\n",
    "non_empty_count = df['Disease_x'].apply(lambda x: isinstance(x, str) and x.strip() != '').sum()\n",
    "\n",
    "print(non_empty_count)"
   ]
  },
  {
   "cell_type": "code",
   "execution_count": null,
   "id": "bf0c6ad0",
   "metadata": {},
   "outputs": [],
   "source": []
  }
 ],
 "metadata": {
  "kernelspec": {
   "display_name": "note_curation",
   "language": "python",
   "name": "python3"
  },
  "language_info": {
   "codemirror_mode": {
    "name": "ipython",
    "version": 3
   },
   "file_extension": ".py",
   "mimetype": "text/x-python",
   "name": "python",
   "nbconvert_exporter": "python",
   "pygments_lexer": "ipython3",
   "version": "3.11.13"
  }
 },
 "nbformat": 4,
 "nbformat_minor": 5
}
